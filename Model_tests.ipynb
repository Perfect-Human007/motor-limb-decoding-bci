{
 "cells": [
  {
   "cell_type": "code",
   "execution_count": 4,
   "id": "8f103aa9",
   "metadata": {},
   "outputs": [
    {
     "name": "stdout",
     "output_type": "stream",
     "text": [
      "ANOVA F-value: 1.9138, p-value: 0.1009\n",
      "             Multiple Comparison of Means - Tukey HSD, FWER=0.05              \n",
      "==============================================================================\n",
      "       group1              group2       meandiff p-adj   lower   upper  reject\n",
      "------------------------------------------------------------------------------\n",
      "       Complex Tree                 KNN   4.5714 0.3173 -1.8613 11.0041  False\n",
      "       Complex Tree                 LDA   4.9286 0.2359 -1.5041 11.3613  False\n",
      "       Complex Tree Logistic Regression      6.0 0.0817 -0.4327 12.4327  False\n",
      "       Complex Tree         Naive Bayes   4.9286 0.2359 -1.5041 11.3613  False\n",
      "       Complex Tree SVM(linear Default)   5.6429 0.1194 -0.7898 12.0755  False\n",
      "       Complex Tree     SVM(rbf custom)   5.2857 0.1702  -1.147 11.7184  False\n",
      "                KNN                 LDA   0.3571    1.0 -6.0755  6.7898  False\n",
      "                KNN Logistic Regression   1.4286 0.9926 -5.0041  7.8613  False\n",
      "                KNN         Naive Bayes   0.3571    1.0 -6.0755  6.7898  False\n",
      "                KNN SVM(linear Default)   1.0714 0.9985 -5.3613  7.5041  False\n",
      "                KNN     SVM(rbf custom)   0.7143 0.9999 -5.7184   7.147  False\n",
      "                LDA Logistic Regression   1.0714 0.9985 -5.3613  7.5041  False\n",
      "                LDA         Naive Bayes      0.0    1.0 -6.4327  6.4327  False\n",
      "                LDA SVM(linear Default)   0.7143 0.9999 -5.7184   7.147  False\n",
      "                LDA     SVM(rbf custom)   0.3571    1.0 -6.0755  6.7898  False\n",
      "Logistic Regression         Naive Bayes  -1.0714 0.9985 -7.5041  5.3613  False\n",
      "Logistic Regression SVM(linear Default)  -0.3571    1.0 -6.7898  6.0755  False\n",
      "Logistic Regression     SVM(rbf custom)  -0.7143 0.9999  -7.147  5.7184  False\n",
      "        Naive Bayes SVM(linear Default)   0.7143 0.9999 -5.7184   7.147  False\n",
      "        Naive Bayes     SVM(rbf custom)   0.3571    1.0 -6.0755  6.7898  False\n",
      "SVM(linear Default)     SVM(rbf custom)  -0.3571    1.0 -6.7898  6.0755  False\n",
      "------------------------------------------------------------------------------\n",
      "\n",
      "Mean and Standard Deviation of Accuracies:\n",
      "LDA: Mean accuracy = 92.86%, Standard Deviation = 3.88%\n",
      "SVM(linear Default): Mean accuracy = 93.57%, Standard Deviation = 3.20%\n",
      "SVM(rbf custom): Mean accuracy = 93.21%, Standard Deviation = 3.19%\n",
      "Logistic Regression: Mean accuracy = 93.93%, Standard Deviation = 3.75%\n",
      "Complex Tree: Mean accuracy = 87.93%, Standard Deviation = 3.69%\n",
      "Naive Bayes: Mean accuracy = 92.86%, Standard Deviation = 3.11%\n",
      "KNN: Mean accuracy = 92.50%, Standard Deviation = 4.23%\n"
     ]
    }
   ],
   "source": [
    "import pandas as pd\n",
    "from statsmodels.stats.multicomp import pairwise_tukeyhsd\n",
    "from scipy.stats import f_oneway\n",
    "import numpy as np\n",
    "\n",
    "# Accuracies from different classifiers for 7 participants (Fat-a, Fat-b, Fat-c, Fat-d etc)\n",
    "classifier_accuracies = {\n",
    "    'LDA': [90, 92.5, 97.5, 95, 95, 85, 95], \n",
    "    'SVM(linear Default)': [88, 93, 97, 95, 95, 90, 97],  \n",
    "    'SVM(rbf custom)': [90, 92.5, 97.5, 95, 97.5, 90, 90],  \n",
    "    'Logistic Regression': [87.5, 90, 97.5, 95, 97.5, 92.5, 97.5],  \n",
    "    'Complex Tree': [87.5, 87.5, 90.5, 92.5, 90, 80, 87.5],  \n",
    "    'Naive Bayes': [90, 92.5, 97.5, 95, 95, 87.5, 92.5],  \n",
    "    'KNN': [90, 85, 97.5, 95, 97.5, 90, 92.5]  \n",
    "}\n",
    "\n",
    "# Flatten data for Tukey test\n",
    "data = pd.DataFrame(classifier_accuracies).melt(var_name='Classifier', value_name='Accuracy')\n",
    "\n",
    "# Perform one-way ANOVA\n",
    "f_value, p_value = f_oneway(*classifier_accuracies.values())\n",
    "print(f\"ANOVA F-value: {f_value:.4f}, p-value: {p_value:.4f}\")\n",
    "\n",
    "# Perform Tukey HSD post-hoc test\n",
    "tukey = pairwise_tukeyhsd(endog=data['Accuracy'], groups=data['Classifier'], alpha=0.05)\n",
    "print(tukey.summary())\n",
    "\n",
    "# Calculate mean and standard deviation\n",
    "mean_accuracies = {classifier: np.mean(accuracies) for classifier, accuracies in classifier_accuracies.items()}\n",
    "std_accuracies = {classifier: np.std(accuracies) for classifier, accuracies in classifier_accuracies.items()}\n",
    "\n",
    "# Print mean and standard deviation\n",
    "print(\"\\nMean and Standard Deviation of Accuracies:\")\n",
    "for classifier in classifier_accuracies.keys():\n",
    "    print(f\"{classifier}: Mean accuracy = {mean_accuracies[classifier]:.2f}%, Standard Deviation = {std_accuracies[classifier]:.2f}%\")\n"
   ]
  },
  {
   "cell_type": "code",
   "execution_count": 2,
   "id": "0bbac8a3",
   "metadata": {},
   "outputs": [
    {
     "name": "stdout",
     "output_type": "stream",
     "text": [
      "T-test between LDA and SVM(linear Default): t-value = -0.8462, p-value = 0.4299\n",
      "T-test between LDA and SVM(rbf custom): t-value = -0.3111, p-value = 0.7663\n",
      "T-test between LDA and Logistic Regression: t-value = -0.8115, p-value = 0.4481\n",
      "T-test between LDA and Complex Tree: t-value = 6.7019, p-value = 0.0005\n",
      "T-test between LDA and Naive Bayes: t-value = 0.0000, p-value = 1.0000\n",
      "T-test between LDA and KNN: t-value = 0.2402, p-value = 0.8182\n",
      "T-test between SVM(linear Default) and SVM(rbf custom): t-value = 0.3017, p-value = 0.7731\n",
      "T-test between SVM(linear Default) and Logistic Regression: t-value = -0.5008, p-value = 0.6343\n",
      "T-test between SVM(linear Default) and Complex Tree: t-value = 4.3292, p-value = 0.0049\n",
      "T-test between SVM(linear Default) and Naive Bayes: t-value = 0.8839, p-value = 0.4108\n",
      "T-test between SVM(linear Default) and KNN: t-value = 0.7457, p-value = 0.4840\n",
      "T-test between SVM(rbf custom) and Logistic Regression: t-value = -0.5477, p-value = 0.6036\n",
      "T-test between SVM(rbf custom) and Complex Tree: t-value = 4.6864, p-value = 0.0034\n",
      "T-test between SVM(rbf custom) and Naive Bayes: t-value = 0.5477, p-value = 0.6036\n",
      "T-test between SVM(rbf custom) and KNN: t-value = 0.6030, p-value = 0.5686\n",
      "T-test between Logistic Regression and Complex Tree: t-value = 3.5204, p-value = 0.0125\n",
      "T-test between Logistic Regression and Naive Bayes: t-value = 0.8911, p-value = 0.4072\n",
      "T-test between Logistic Regression and KNN: t-value = 1.3333, p-value = 0.2308\n",
      "T-test between Complex Tree and Naive Bayes: t-value = -6.7019, p-value = 0.0005\n",
      "T-test between Complex Tree and KNN: t-value = -2.9232, p-value = 0.0265\n",
      "T-test between Naive Bayes and KNN: t-value = 0.2810, p-value = 0.7882\n"
     ]
    }
   ],
   "source": [
    "from scipy.stats import ttest_rel\n",
    "import itertools\n",
    "\n",
    "# Extract classifier names\n",
    "classifier_names = list(classifier_accuracies.keys())\n",
    "\n",
    "# Iterate over all pairs of classifiers and perform T-tests\n",
    "t_test_results = {}\n",
    "for (clf1, clf2) in itertools.combinations(classifier_names, 2):\n",
    "    acc1 = classifier_accuracies[clf1]\n",
    "    acc2 = classifier_accuracies[clf2]\n",
    "    \n",
    "    t_stat, p_value = ttest_rel(acc1, acc2)\n",
    "    t_test_results[(clf1, clf2)] = (t_stat, p_value)\n",
    "\n",
    "# Print T-test results\n",
    "for key, value in t_test_results.items():\n",
    "    print(f\"T-test between {key[0]} and {key[1]}: t-value = {value[0]:.4f}, p-value = {value[1]:.4f}\")\n"
   ]
  },
  {
   "cell_type": "code",
   "execution_count": 11,
   "id": "840a2fd0",
   "metadata": {},
   "outputs": [
    {
     "name": "stdout",
     "output_type": "stream",
     "text": [
      "Binomial test for LDA: Success=7, p-value = 0.0078\n",
      "Binomial test for SVM(linear Default): Success=7, p-value = 0.0078\n",
      "Binomial test for SVM(rbf custom): Success=7, p-value = 0.0078\n",
      "Binomial test for Logistic Regression: Success=7, p-value = 0.0078\n",
      "Binomial test for Complex Tree: Success=7, p-value = 0.0078\n",
      "Binomial test for Naive Bayes: Success=7, p-value = 0.0078\n",
      "Binomial test for KNN: Success=7, p-value = 0.0078\n"
     ]
    },
    {
     "name": "stderr",
     "output_type": "stream",
     "text": [
      "/var/folders/rw/tyywsmk172746357n7yyqb500000gn/T/ipykernel_47370/721277079.py:13: DeprecationWarning: 'binom_test' is deprecated in favour of 'binomtest' from version 1.7.0 and will be removed in Scipy 1.12.0.\n",
      "  p_value = binom_test(successes, n, 0.5, alternative='greater')\n"
     ]
    }
   ],
   "source": [
    "from scipy.stats import binom_test\n",
    "\n",
    "binomial_test_results = {}\n",
    "\n",
    "for clf in classifier_names:\n",
    "    accuracies = classifier_accuracies[clf]\n",
    "    \n",
    "    # Convert accuracies to success counts (e.g., above 50% is a success)\n",
    "    successes = sum([1 for acc in accuracies if acc > 50])\n",
    "    n = len(accuracies)  # Number of trials\n",
    "    \n",
    "    # Perform binomial test against a baseline of 50%\n",
    "    p_value = binom_test(successes, n, 0.5, alternative='greater')\n",
    "    \n",
    "    binomial_test_results[clf] = p_value\n",
    "\n",
    "# Print Binomial test results\n",
    "for clf, p_value in binomial_test_results.items():\n",
    "    print(f\"Binomial test for {clf}: Success={successes}, p-value = {p_value:.4f}\")\n"
   ]
  },
  {
   "cell_type": "code",
   "execution_count": null,
   "id": "80dcf158",
   "metadata": {},
   "outputs": [],
   "source": []
  }
 ],
 "metadata": {
  "kernelspec": {
   "display_name": "Python 3 (ipykernel)",
   "language": "python",
   "name": "python3"
  },
  "language_info": {
   "codemirror_mode": {
    "name": "ipython",
    "version": 3
   },
   "file_extension": ".py",
   "mimetype": "text/x-python",
   "name": "python",
   "nbconvert_exporter": "python",
   "pygments_lexer": "ipython3",
   "version": "3.11.5"
  }
 },
 "nbformat": 4,
 "nbformat_minor": 5
}
